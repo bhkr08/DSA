{
  "nbformat": 4,
  "nbformat_minor": 0,
  "metadata": {
    "colab": {
      "provenance": [],
      "authorship_tag": "ABX9TyMYMSBbsB/6inO93HwqETK4",
      "include_colab_link": true
    },
    "kernelspec": {
      "name": "python3",
      "display_name": "Python 3"
    },
    "language_info": {
      "name": "python"
    }
  },
  "cells": [
    {
      "cell_type": "markdown",
      "metadata": {
        "id": "view-in-github",
        "colab_type": "text"
      },
      "source": [
        "<a href=\"https://colab.research.google.com/github/bhkr08/DSA/blob/main/pythonPracticise.ipynb\" target=\"_parent\"><img src=\"https://colab.research.google.com/assets/colab-badge.svg\" alt=\"Open In Colab\"/></a>"
      ]
    },
    {
      "cell_type": "markdown",
      "source": [
        "** Reverse a string without using built-in functions.**"
      ],
      "metadata": {
        "id": "1pn1AnIR46TG"
      }
    },
    {
      "cell_type": "code",
      "source": [
        "\n",
        "\n",
        "string1 = \"dataengineering\"\n",
        "\n",
        "#1 approch using inbuilt functions\n",
        "print(string1[::-1])\n",
        "\n",
        "# 2nd approch without inbuilt function\n",
        "\n",
        "rev_string = \"\"\n",
        "\n",
        "for i in string1:\n",
        "  rev_string = i + rev_string\n",
        "print(rev_string)\n",
        "\n",
        "# 3 using recursion\n",
        "\n",
        "def reverse_string(strings):\n",
        "  if len(strings) == 1:\n",
        "    return strings\n",
        "  else:\n",
        "    return reverse_string(strings[1:]) + strings[0]\n",
        "\n",
        "print(reverse_string(string1))\n",
        "\n",
        "# 4 using stack LIFO last in first out\n",
        "\n",
        "def rev_str(s):\n",
        "  stck = list(s)\n",
        "  rev_str = \"\"\n",
        "  while stck:\n",
        "    rev_str +=stck.pop()\n",
        "  return rev_str\n",
        "\n",
        "print(rev_str(string1))\n",
        "\n"
      ],
      "metadata": {
        "colab": {
          "base_uri": "https://localhost:8080/"
        },
        "id": "JaQ5CW1zDcTy",
        "outputId": "8091abae-8a43-4e7f-adf5-9d9c843550dd"
      },
      "execution_count": null,
      "outputs": [
        {
          "output_type": "stream",
          "name": "stdout",
          "text": [
            "gnireenigneatad\n",
            "gnireenigneatad\n",
            "gnireenigneatad\n",
            "gnireenigneatad\n"
          ]
        }
      ]
    },
    {
      "cell_type": "markdown",
      "source": [
        "**#Write a function that takes a string and a character as input and returns the number of times the character appears in the string.**"
      ],
      "metadata": {
        "id": "thBfIX7v4wiV"
      }
    },
    {
      "cell_type": "code",
      "source": [
        "#Write a function that takes a string and a character as input and returns the number of times the character appears in the string.\n",
        "string = \"function that takes a string and\"\n",
        "char = \"a\"\n",
        "def char_count(str,char):\n",
        "  str = str.lower()\n",
        "  count = 0\n",
        "  for ch in str:\n",
        "    if ch == char:\n",
        "      count +=1\n",
        "  return count\n",
        "print(char_count(string,char))"
      ],
      "metadata": {
        "colab": {
          "base_uri": "https://localhost:8080/"
        },
        "id": "GLJwc9y1uTS1",
        "outputId": "92073441-0463-4c3e-de32-b09ee135d9bc"
      },
      "execution_count": null,
      "outputs": [
        {
          "output_type": "stream",
          "name": "stdout",
          "text": [
            "4\n"
          ]
        }
      ]
    },
    {
      "cell_type": "markdown",
      "source": [
        "**Write a function that takes a string as input and converts it to title case**"
      ],
      "metadata": {
        "id": "rwu4mOzJ4nO_"
      }
    },
    {
      "cell_type": "code",
      "source": [
        "\n",
        "input = \"data engineering is fun\"\n",
        "print(input.split())\n",
        "\n",
        "def title_str(s):\n",
        "  str_lst = s.split()\n",
        "  new_str_lst =[]\n",
        "  for word in str_lst:\n",
        "    if word[0] == word[0].lower():\n",
        "      word = word[0].upper()+word[1:].lower()\n",
        "      new_str_lst.append(word)\n",
        "\n",
        "  return \" \".join(new_str_lst)\n",
        "print(title_str(input))\n",
        "\n",
        "\n",
        "# using list comprehension\n",
        "print([word for word in input.split()])\n",
        "def upper_str(s):\n",
        "  return \" \".join([word[0].upper() + word[1:].lower() for word in s.split()])\n",
        "print(upper_str(input))"
      ],
      "metadata": {
        "colab": {
          "base_uri": "https://localhost:8080/"
        },
        "id": "tnpHTIwsyRIx",
        "outputId": "fc1c24a3-bab3-4d90-ea20-9f7908b0fc0e"
      },
      "execution_count": null,
      "outputs": [
        {
          "output_type": "stream",
          "name": "stdout",
          "text": [
            "['data', 'engineering', 'is', 'fun']\n",
            "Data Engineering Is Fun\n",
            "['data', 'engineering', 'is', 'fun']\n",
            "Data Engineering Is Fun\n"
          ]
        }
      ]
    },
    {
      "cell_type": "markdown",
      "source": [
        "**##Write a function that checks whether a given string is a palindrome (reads the same forward and backward).**"
      ],
      "metadata": {
        "id": "STE1jOqS4aBq"
      }
    },
    {
      "cell_type": "code",
      "source": [
        "string1 = \"amma\"\n",
        "#1st approach\n",
        "if string1 == string1[::-1]:\n",
        "  print(True)\n",
        "else:\n",
        "  print(\"Not a palindrome\")\n",
        "\n",
        "# 2nd approach\n",
        "l = len(string1)\n",
        "i = 0\n",
        "while l>0:\n",
        "\n",
        "  if string1[i] == string1[l-1]:\n",
        "    i +=1\n",
        "    l -=1\n",
        "  else:\n",
        "    print(i,l)\n",
        "    print(\"Not palindrome\")\n",
        "    break\n",
        "if i == len(string1):\n",
        "  print(\"palindrome\")\n",
        "\n",
        "# 3rd approach\n",
        "\n",
        "def palindrome(s):\n",
        "  right,left = 0,len(s)-1\n",
        "  while left>right:\n",
        "    if s[right] != s[left]:\n",
        "      return False\n",
        "    right +=1\n",
        "    left -=1\n",
        "  return True\n",
        "\n",
        "print(palindrome(string1))\n",
        "\n"
      ],
      "metadata": {
        "colab": {
          "base_uri": "https://localhost:8080/"
        },
        "id": "a8V3MgXI4EKf",
        "outputId": "8469cdd7-74d3-4ad7-cfd7-dcc119be1f5e"
      },
      "execution_count": null,
      "outputs": [
        {
          "output_type": "stream",
          "name": "stdout",
          "text": [
            "True\n",
            "palindrome\n",
            "True\n"
          ]
        }
      ]
    },
    {
      "cell_type": "markdown",
      "source": [
        "Write a function that finds the first character in a string that does not repeat anywhere else. If all characters repeat, return \"None\".\n"
      ],
      "metadata": {
        "id": "ztExjuOaA60D"
      }
    },
    {
      "cell_type": "code",
      "source": [
        "def first_non_repeatning(s):\n",
        "  s = s.lower()\n",
        "  char_count = {}\n",
        "  for char in s:\n",
        "    if char in char_count:\n",
        "      char_count[char] +=1\n",
        "    else:\n",
        "      char_count[char] =1\n",
        "  print(char_count)\n",
        "  for char in char_count:\n",
        "    if char_count[char] == 1:\n",
        "      return char\n",
        "  return None\n",
        "print(first_non_repeatning('swiss'))"
      ],
      "metadata": {
        "colab": {
          "base_uri": "https://localhost:8080/"
        },
        "id": "7Mhgf9d7A_TG",
        "outputId": "c129bf8e-1c67-4cb6-ede3-986e3b00ef85"
      },
      "execution_count": null,
      "outputs": [
        {
          "output_type": "stream",
          "name": "stdout",
          "text": [
            "{'s': 3, 'w': 1, 'i': 1}\n",
            "w\n"
          ]
        }
      ]
    },
    {
      "cell_type": "markdown",
      "source": [
        "Write a function that finds the character in a string that does not repeat anywhere else. If all characters repeat, return \"None\"."
      ],
      "metadata": {
        "id": "jklZaPenWYTn"
      }
    },
    {
      "cell_type": "code",
      "source": [
        "def non_repeating(s):\n",
        "  s = s.lower()\n",
        "  char_cnt = {}\n",
        "  unique_lst = []\n",
        "  for char in s:\n",
        "    if char in char_cnt:\n",
        "      char_cnt[char] +=1\n",
        "    else:\n",
        "      char_cnt[char] = 1\n",
        "  for char in char_cnt:\n",
        "    if char_cnt[char] ==1:\n",
        "      unique_lst.append(char)\n",
        "  return unique_lst if unique_lst else ['None']\n",
        "\n",
        "print(non_repeating('swiss'))"
      ],
      "metadata": {
        "colab": {
          "base_uri": "https://localhost:8080/"
        },
        "id": "FYnYElB0WX2f",
        "outputId": "a2a78679-e74d-4f17-88c8-82672a964964"
      },
      "execution_count": null,
      "outputs": [
        {
          "output_type": "stream",
          "name": "stdout",
          "text": [
            "['w', 'i']\n"
          ]
        }
      ]
    },
    {
      "cell_type": "markdown",
      "source": [
        "Write a function that takes a sentence as input and returns the longest word in it.\n",
        "\n",
        "If multiple words have the same length, return the first one.\n",
        "\n",
        "Ignore punctuation."
      ],
      "metadata": {
        "id": "VkFXclyCe2Ef"
      }
    },
    {
      "cell_type": "code",
      "source": [
        "# define punctuation\n",
        "punctuations = '''!()-[]{};:'\"\\,<>./?@#$%^&*_~'''\n",
        "\n",
        "string1 = \"Data engineering is amazing!\"\n",
        "clean_string =''.join([char for char in string1 if char not in punctuations])\n",
        "# for chr in string1:\n",
        "#   if chr not in punctuations:\n",
        "#     clean_string +=chr\n",
        "print(clean_string)\n",
        "\n",
        "lst = clean_string.split(\" \")\n",
        "print(lst)\n",
        "len_string =0\n",
        "string1 = ''\n",
        "for i in lst:\n",
        "  if len(i)>len_string:\n",
        "    len_string = len(i)\n",
        "    string1 = i\n",
        "print(string1)"
      ],
      "metadata": {
        "id": "KbQSa4yne6VH",
        "colab": {
          "base_uri": "https://localhost:8080/"
        },
        "outputId": "928d13ee-5da4-437f-e858-eff34820ef33"
      },
      "execution_count": null,
      "outputs": [
        {
          "output_type": "stream",
          "name": "stdout",
          "text": [
            "Data engineering is amazing\n",
            "['Data', 'engineering', 'is', 'amazing']\n",
            "engineering\n"
          ]
        }
      ]
    },
    {
      "cell_type": "markdown",
      "source": [
        "Write a function that takes a string as input and returns all possible substrings of that string."
      ],
      "metadata": {
        "id": "yOLCDKtYQirK"
      }
    },
    {
      "cell_type": "code",
      "source": [
        "string1 = 'abc'\n",
        "l = len(string1)\n",
        "lst = []\n",
        "\n",
        "for i in range(l):\n",
        "  substr = \"\"\n",
        "  for j in range(i,l):\n",
        "    substr +=string1[j]\n",
        "    lst.append(substr)\n",
        "print(lst)\n",
        "\n",
        "\n"
      ],
      "metadata": {
        "colab": {
          "base_uri": "https://localhost:8080/"
        },
        "id": "UFddJAovQm1-",
        "outputId": "86f69cdc-3302-4a23-9c96-2a8b0bc87ca2"
      },
      "execution_count": null,
      "outputs": [
        {
          "output_type": "stream",
          "name": "stdout",
          "text": [
            "['a', 'ab', 'abc', 'b', 'bc', 'c']\n"
          ]
        }
      ]
    },
    {
      "cell_type": "markdown",
      "source": [
        "Write a function that returns all possible permutations of a given string."
      ],
      "metadata": {
        "id": "0tDZ6j6t4-_C"
      }
    },
    {
      "cell_type": "code",
      "source": [
        "string1 = 'abc'\n",
        "\n"
      ],
      "metadata": {
        "id": "F8WkYU5h5EMr"
      },
      "execution_count": null,
      "outputs": []
    },
    {
      "cell_type": "markdown",
      "source": [
        "Problem Statement:\n",
        "Write a function to check if two strings are anagrams of each other.\n",
        "\n",
        "Two strings are anagrams if they contain the same characters in the same frequency, but possibly in a different order.\n"
      ],
      "metadata": {
        "id": "q2YFzM5ZLcpc"
      }
    },
    {
      "cell_type": "code",
      "source": [
        "string1,string2 =\"listen\", \"silent\"\n",
        "\n",
        "def anagram_check(s1,s2):\n",
        "  if len(s1) != len(s2):\n",
        "    return False\n",
        "  for i in s1:\n",
        "    if i in s2:\n",
        "      print(f'cahr in i is {i}')\n",
        "      s2 = s2.replace(i,'',1)\n",
        "      print(f'string2 after removal of char {i} {s2}')\n",
        "    else:\n",
        "      return False\n",
        "  return True\n",
        "\n",
        "print(anagram_check(string2,string1))\n",
        "\n",
        "# 2nd approach\n",
        "\n",
        "def ana_check(s1,s2):\n",
        "  s1 = s1.replace(\" \",\"\").lower()\n",
        "  s2 = s2.replace(\" \",\"\").lower()\n",
        "\n",
        "  freq = {}\n",
        "  if len(s1) != len(s2):\n",
        "    return False\n",
        "  for char in s1:\n",
        "    freq[char] = freq.get(char, 0) +1\n",
        "  for char in s2:\n",
        "    if char in freq:\n",
        "      freq[char] -=1\n",
        "      if freq[char] <0:\n",
        "        return False\n",
        "    else:\n",
        "      return False\n",
        "  return all(count == 0 for count in freq.values())\n",
        "print(ana_check(string2,string1))"
      ],
      "metadata": {
        "colab": {
          "base_uri": "https://localhost:8080/"
        },
        "id": "K_J--y2FLeER",
        "outputId": "187de4de-0a6f-4ddc-a62e-ac0aa631dc94"
      },
      "execution_count": null,
      "outputs": [
        {
          "output_type": "stream",
          "name": "stdout",
          "text": [
            "cahr in i is s\n",
            "string2 after removal of char s liten\n",
            "cahr in i is i\n",
            "string2 after removal of char i lten\n",
            "cahr in i is l\n",
            "string2 after removal of char l ten\n",
            "cahr in i is e\n",
            "string2 after removal of char e tn\n",
            "cahr in i is n\n",
            "string2 after removal of char n t\n",
            "cahr in i is t\n",
            "string2 after removal of char t \n",
            "True\n",
            "True\n"
          ]
        }
      ]
    },
    {
      "cell_type": "markdown",
      "source": [
        "Write a function to compress a string using the counts of repeated characters.\n",
        "\n",
        "If a character repeats consecutively, replace it with the character followed by the count.\n",
        "\n",
        "If the compressed string is not shorter than the original, return the original string."
      ],
      "metadata": {
        "id": "GjUfObEg0lhV"
      }
    },
    {
      "cell_type": "code",
      "source": [
        "string1 = \"aabbcccdddd\"\n",
        "s1 = \"\"\n",
        "a = {}\n",
        "for i in string1:\n",
        "  a[i] =a.get(i,0) +1\n",
        "for k,v in a.items():\n",
        "  s1 +=str(k)+str(v)\n",
        "if len(string1) >=len(s1):\n",
        "  print(s1)\n",
        "else:\n",
        "  print(\"canot be compressed\")\n",
        "\n"
      ],
      "metadata": {
        "colab": {
          "base_uri": "https://localhost:8080/"
        },
        "id": "GUwX_h9PNofi",
        "outputId": "2418d2a5-d5de-4384-94fe-8e7c80abba04"
      },
      "execution_count": null,
      "outputs": [
        {
          "output_type": "stream",
          "name": "stdout",
          "text": [
            "a3b2c3d4\n"
          ]
        }
      ]
    },
    {
      "cell_type": "markdown",
      "source": [
        "Write a function that decompresses a string in the format where a character is followed by its count.\n",
        "\n",
        "Example:\n",
        "\"a3b2c1\" → \"aaabbc\"\n",
        "\"a1b1c1d1\" → \"abcd\"\n",
        "\n"
      ],
      "metadata": {
        "id": "BSRPgPypX9CQ"
      }
    },
    {
      "cell_type": "markdown",
      "source": [],
      "metadata": {
        "id": "n86ntNqYXmZ8"
      }
    },
    {
      "cell_type": "code",
      "source": [
        "str1 = \"a3\"\n",
        "for i in str1:\n",
        "  char1 = i\n"
      ],
      "metadata": {
        "colab": {
          "base_uri": "https://localhost:8080/"
        },
        "id": "FqYt-bPbZANV",
        "outputId": "2de955f4-7151-4f9c-bd7d-d11e77e03a28"
      },
      "execution_count": 11,
      "outputs": [
        {
          "output_type": "stream",
          "name": "stdout",
          "text": [
            "a\n",
            "a\n"
          ]
        }
      ]
    }
  ]
}